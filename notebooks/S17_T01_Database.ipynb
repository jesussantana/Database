{
 "cells": [
  {
   "cell_type": "markdown",
   "metadata": {},
   "source": [
    "# [IT Academy - Data Science with Python](https://www.barcelonactiva.cat/es/itacademy)\n",
    "## [S17 T01: Database](https://github.com/jesussantana/Database/blob/main/notebooks/S17_T01_Database.ipynb)\n",
    "\n",
    "[![forthebadge made-with-python](http://ForTheBadge.com/images/badges/made-with-python.svg)](https://www.python.org/)  \n",
    "[![Made withJupyter](https://img.shields.io/badge/Made%20with-Jupyter-orange?style=for-the-badge&logo=Jupyter)](https://jupyter.org/try)  "
   ]
  },
  {
   "cell_type": "markdown",
   "metadata": {},
   "source": [
    "****"
   ]
  },
  {
   "cell_type": "markdown",
   "metadata": {},
   "source": [
    "## Level 1\n",
    "\n",
    "- Exercise 1  \n",
    "\n",
    "  - Create a sample relational database using a text or handwritten document. Design it to contain the following tables, and establish the relationships you deem necessary between them:\n",
    "\n",
    "    - Table of purchases (transactions)\n",
    "\n",
    "    - Table of establishments\n",
    "\n",
    "    - Table of workers\n",
    "\n",
    "    - Table of clients\n",
    "\n",
    "    - Table of products\n",
    "\n",
    "    - Product type table\n",
    "\n",
    "  - Defines the properties of the relationships (1: 1, 1: n, n: n), and create some of the variables that could contain, for example:\n",
    "\n",
    "    - Table of establishments\n",
    "\n",
    "      - IDestabliment (unique key)\n",
    "\n",
    "      - Nom\n",
    "\n",
    "      - Location\n",
    "\n",
    "      - Surface\n",
    "  \n"
   ]
  },
  {
   "cell_type": "markdown",
   "metadata": {},
   "source": [
    "- Entities:\n",
    "\n",
    "  - TRANSACTIONS (transaction_Id, Product_Id, Employee_Id, Customer_Id, Price_Sum, Date)\n",
    "\n",
    "  - CLIENTS (Customer_id, Customer_Name, Phone_cl, Mail)\n",
    "\n",
    "  - ESTABLISHMENTS (Establishment_id, Establishment_Name, Location, Area)\n",
    "\n",
    "  - WORKERS (Worker_id, Worker_Name, Establishment_Id, Contract_Date, Phone_tr)\n",
    "\n",
    "  - PRODUCTS (Product_Id, Product_Name, Type_Id, Price, Product_Date)\n",
    "\n",
    "  - TYPES OF PRODUCTS (Id_type, Type)\n",
    "\n",
    "- Relationships:\n",
    "\n",
    "  - Purchases, between CUSTOMERS and TRANSACTIONs: 1-N\n",
    "  - They work, between ESTABLISHMENT and WORKERS: 1: N\n",
    "  - They have 1, between ESTABLISHMENT and PRODUCTS: 1-N\n",
    "  - They have 2, between ESTABLISHMENT and CUSTOMERS: 1-N\n",
    "  - It is part, between PRODUCT and TYPE OF PRODUCT: 1-1"
   ]
  },
  {
   "cell_type": "markdown",
   "metadata": {},
   "source": [
    "## Level 2\n",
    "\n",
    "- Exercises 2:\n",
    "\n",
    "  - Use an entity-relationship diagram creation program like http://dia-installer.de to create the diagram."
   ]
  },
  {
   "cell_type": "markdown",
   "metadata": {},
   "source": [
    "<img src=\"https://embed.creately.com/neWvGt2ZHyT?token=KLpuLRixI2aem7if&type=svg\">"
   ]
  },
  {
   "cell_type": "markdown",
   "metadata": {},
   "source": [
    "## Level 3\n",
    "\n",
    "- Exerxise 2:\n",
    "  - Use the MySQL Workbench to create a relational model."
   ]
  },
  {
   "cell_type": "markdown",
   "metadata": {},
   "source": [
    "### Workbench Installation"
   ]
  },
  {
   "cell_type": "markdown",
   "metadata": {},
   "source": [
    "https://dev.mysql.com/downloads/repo/apt/"
   ]
  },
  {
   "cell_type": "markdown",
   "metadata": {},
   "source": [
    "cd Downloads\n",
    "\n",
    "sudo apt install ./mysql-apt-config_0.8.16-1_all.deb"
   ]
  },
  {
   "cell_type": "markdown",
   "metadata": {},
   "source": [
    "sudo apt update"
   ]
  },
  {
   "cell_type": "markdown",
   "metadata": {},
   "source": [
    "sudo apt install mysql-workbench-community"
   ]
  },
  {
   "cell_type": "code",
   "execution_count": null,
   "metadata": {},
   "outputs": [],
   "source": [
    "mysql-workbench"
   ]
  },
  {
   "cell_type": "markdown",
   "metadata": {},
   "source": [
    "![Workbench](img/Workbench.png)"
   ]
  },
  {
   "cell_type": "markdown",
   "metadata": {},
   "source": [
    "### Script to create database with workbench with MySQL"
   ]
  },
  {
   "cell_type": "markdown",
   "metadata": {},
   "source": [
    "[ Workbench Script](CreateDatabaseWorkbench.sql)"
   ]
  },
  {
   "cell_type": "markdown",
   "metadata": {},
   "source": [
    "DROP DATABASE IF EXISTS S17;\n",
    "CREATE DATABASE S17;\n",
    "USE S17;\n",
    "\n",
    "SET NAMES utf8;\n",
    "SET character_set_client = utf8mb4;\n",
    "\n",
    "CREATE TABLE CUSTOMERS (\n",
    "    Customer_id INT(11) NOT NULL,\n",
    "    Customer_Name VARCHAR(50),\n",
    "    Mail VARCHAR(50),\n",
    "    Phone_customer VARCHAR(50),\n",
    "    PRIMARY KEY (Customer_id)\n",
    ");\n",
    "   \n",
    "CREATE TABLE ESTABLISHMENTS (\n",
    "    Establishment_id INT(11) NOT NULL,\n",
    "    Establishment_name VARCHAR(50),\n",
    "    Location VARCHAR(50),\n",
    "    Surface VARCHAR(50),\n",
    "    PRIMARY KEY (Establishment_id)\n",
    ");\n",
    "    \n",
    "CREATE TABLE WORKERS (\n",
    "    Worker_id INT(11) NOT NULL,\n",
    "    Worker_Name VARCHAR(50),\n",
    "    Establiment_id INT(11) NOT NULL,\n",
    "    Data_contract DATETIME,\n",
    "    Phone_worker VARCHAR(50),\n",
    "    PRIMARY KEY (Worker_id),\n",
    "    FOREIGN KEY (Establishment_id)\n",
    "        REFERENCES ESTABLISHMENT (Establishment_id)\n",
    ");\n",
    "    \n",
    "CREATE TABLE PRODUCT_TYPE (\n",
    "    Type_id INT(11) NOT NULL,\n",
    "    Type_Name VARCHAR(50),\n",
    "    PRIMARY KEY (Type_id)\n",
    ");\n",
    "   \n",
    "CREATE TABLE PRODUCTS (\n",
    "    Product_id INT(11) NOT NULL,\n",
    "    Product_Name VARCHAR(50),\n",
    "    Type_id INT(11) NOT NULL,\n",
    "    Price INT(11) NOT NULL,\n",
    "    Datetime_production DATETIME,\n",
    "    PRIMARY KEY (Product_id),\n",
    "    FOREIGN KEY (Type_id)\n",
    "        REFERENCES PRODUCT_TYPE (Type_id)\n",
    ");\n",
    "   \n",
    "\n",
    "CREATE TABLE PURCHASES (\n",
    "    Purchase_id INT(11) NOT NULL,\n",
    "    Product_id INT(11) NOT NULL,\n",
    "    Industry_Worker INT(11) NOT NULL,\n",
    "    Customer_id INT(11) NOT NULL,\n",
    "    Price_sum INT(11) NOT NULL,\n",
    "    Date_Purchase DATETIME,\n",
    "    PRIMARY KEY (Purchase_id),\n",
    "    FOREIGN KEY (Product_id)\n",
    "        REFERENCES PRODUCTS (Product_id),\n",
    "    FOREIGN KEY (Worker_id)\n",
    "        REFERENCES WORKERS (Worker_id),\n",
    "    FOREIGN KEY (Customer_id)\n",
    "        REFERENCES CUSTOMERS (Customer_id)\n",
    ");"
   ]
  },
  {
   "cell_type": "code",
   "execution_count": null,
   "metadata": {},
   "outputs": [],
   "source": []
  }
 ],
 "metadata": {
  "interpreter": {
   "hash": "31f2aee4e71d21fbe5cf8b01ff0e069b9275f58929596ceb00d14d90e3e16cd6"
  },
  "kernelspec": {
   "display_name": "Python 3.8.5 64-bit",
   "name": "python3"
  },
  "language_info": {
   "name": "python",
   "version": ""
  }
 },
 "nbformat": 4,
 "nbformat_minor": 2
}