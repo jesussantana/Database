{
 "cells": [
  {
   "cell_type": "markdown",
   "metadata": {},
   "source": [
    "# [IT Academy - Data Science with Python](https://www.barcelonactiva.cat/es/itacademy)\n",
    "## [S17 T01: Database](https://github.com/jesussantana/Web-Scraping/blob/main/notebooks/S17_T01_Database.ipynb)\n",
    "\n",
    "[![forthebadge made-with-python](http://ForTheBadge.com/images/badges/made-with-python.svg)](https://www.python.org/)  \n",
    "[![Made withJupyter](https://img.shields.io/badge/Made%20with-Jupyter-orange?style=for-the-badge&logo=Jupyter)](https://jupyter.org/try)  "
   ]
  },
  {
   "cell_type": "markdown",
   "metadata": {},
   "source": [
    "****"
   ]
  },
  {
   "cell_type": "markdown",
   "metadata": {},
   "source": [
    "## Level 1\n",
    "\n",
    "- Exercici 1  \n",
    "\n",
    "Create a sample relational database using a text or handwritten document. Design it to contain the following tables, and establish the relationships you deem necessary between them:\n",
    "\n",
    "- Table of purchases (transactions)\n",
    "\n",
    "- Table of establishments\n",
    "\n",
    "- Table of workers\n",
    "\n",
    "- Table of clients\n",
    "\n",
    "- Table of products\n",
    "\n",
    "- Product type table\n",
    "\n",
    "Defines the properties of the relationships (1: 1, 1: n, n: n), and create some of the variables that could contain, for example:\n",
    "\n",
    "\n",
    "\n",
    "Table of establishments\n",
    "\n",
    "- IDestabliment (unique key)\n",
    "\n",
    "- Nom\n",
    "\n",
    "- Location\n",
    "\n",
    "-\tSurface"
   ]
  },
  {
   "cell_type": "markdown",
   "metadata": {},
   "source": []
  }
 ],
 "metadata": {
  "interpreter": {
   "hash": "31f2aee4e71d21fbe5cf8b01ff0e069b9275f58929596ceb00d14d90e3e16cd6"
  },
  "kernelspec": {
   "display_name": "Python 3.8.5 64-bit",
   "name": "python3"
  },
  "language_info": {
   "name": "python",
   "version": ""
  },
  "orig_nbformat": 4
 },
 "nbformat": 4,
 "nbformat_minor": 2
}